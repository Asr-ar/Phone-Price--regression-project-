{
 "cells": [
  {
   "cell_type": "code",
   "execution_count": null,
   "id": "43a1d5d1",
   "metadata": {},
   "outputs": [],
   "source": [
    "import pickle\n",
    "import random\n",
    "import time, os\n",
    "import requests\n",
    "import numpy as np\n",
    "import pandas as pd\n",
    "from bs4 import BeautifulSoup\n",
    "from selenium import webdriver\n",
    "from fake_useragent import UserAgent\n",
    "from selenium.webdriver.common.by import By\n",
    "from selenium.webdriver.common.keys import Keys\n",
    "from selenium.webdriver.chrome.service import Service\n",
    "from selenium.common.exceptions import NoSuchElementException"
   ]
  },
  {
   "cell_type": "markdown",
   "id": "a882131c",
   "metadata": {},
   "source": [
    "The function below returns a list of links for each phone on \"91mobile.com/phonefinder.php\" from the 4g and 5g category"
   ]
  },
  {
   "cell_type": "code",
   "execution_count": null,
   "id": "b74c8182",
   "metadata": {},
   "outputs": [],
   "source": [
    "def get_phones_links_4g_5g():\n",
    "    chromedriver = r\"C:\\Program Files\\Google\\Chrome\\Application\\chromedriver.exe\"\n",
    "    os.environ[\"webdriver.chrome.driver\"] = chromedriver\n",
    "    driver = webdriver.Chrome(chromedriver)\n",
    "    driver.get('https://www.91mobiles.com/phonefinder.php')\n",
    "    \n",
    "    driver.execute_script(\"window.scrollTo(0, document.body.scrollHeight);\")\n",
    "    element = driver.find_element_by_css_selector(\"input[id*='pf4gyes']\")\n",
    "    driver.execute_script(\"arguments[0].click();\", element)\n",
    "    \n",
    "    time.sleep(2)\n",
    "    \n",
    "    phone_links = []\n",
    "    \n",
    "    while True:\n",
    "        try:\n",
    "            driver.find_element_by_css_selector(\"span[onclick*='next']\")\n",
    "        except NoSuchElementException:\n",
    "            break\n",
    "            \n",
    "        driver.execute_script(\"window.scrollTo(0, document.body.scrollHeight);\")\n",
    "        time.sleep(2)\n",
    "        soup = BeautifulSoup(driver.page_source, 'html.parser')\n",
    "        phones = soup.find_all('div', class_='finder_snipet_wrap')\n",
    "        \n",
    "        for phone in phones:\n",
    "            phone_links.append(f'https://www.91mobiles.com{phone.find(\"li\").find_next()[\"href\"]}')\n",
    "            \n",
    "        element = driver.find_element_by_css_selector(\"span[onclick*='next']\")\n",
    "        driver.execute_script(\"arguments[0].click();\", element)\n",
    "\n",
    "        time.sleep(.5+2*random.random())\n",
    "        \n",
    "    element = driver.find_element_by_css_selector(\"input[id*='pf4gyes']\")\n",
    "    driver.execute_script(\"arguments[0].click();\", element)\n",
    "    \n",
    "    time.sleep(2)\n",
    "    \n",
    "    element = driver.find_element_by_css_selector(\"input[id*='pf5gyes']\")\n",
    "    driver.execute_script(\"arguments[0].click();\", element)\n",
    "    \n",
    "    \n",
    "    while True:\n",
    "        try:\n",
    "            driver.find_element_by_css_selector(\"span[onclick*='next']\")\n",
    "        except NoSuchElementException:\n",
    "            break\n",
    "            \n",
    "        driver.execute_script(\"window.scrollTo(0, document.body.scrollHeight);\")\n",
    "        time.sleep(2)\n",
    "        soup = BeautifulSoup(driver.page_source, 'html.parser')\n",
    "        phones = soup.find_all('div', class_='finder_snipet_wrap')\n",
    "        \n",
    "        for phone in phones:\n",
    "            phone_links.append(f'https://www.91mobiles.com{phone.find(\"li\").find_next()[\"href\"]}')\n",
    "            \n",
    "        element = driver.find_element_by_css_selector(\"span[onclick*='next']\")\n",
    "        driver.execute_script(\"arguments[0].click();\", element)\n",
    "\n",
    "        time.sleep(.5+2*random.random())\n",
    "        \n",
    "    driver.close()\n",
    "    return phone_links"
   ]
  },
  {
   "cell_type": "markdown",
   "id": "77a5c388",
   "metadata": {},
   "source": [
    "The function below returns a dictionary of phones scraped from each link in the passed list"
   ]
  },
  {
   "cell_type": "code",
   "execution_count": null,
   "id": "15ffe9ab",
   "metadata": {},
   "outputs": [],
   "source": [
    "def get_phones_specs(phone_links):\n",
    "    index_dict = {}\n",
    "    \n",
    "    for ind, link in zip(range(len(phone_links)), phone_links):\n",
    "        specs_dict = {}\n",
    "        \n",
    "        try:\n",
    "            response = requests.get(link, headers={\"User_Agent\": UserAgent().random})\n",
    "        except:\n",
    "            continue\n",
    "        \n",
    "        soup = BeautifulSoup(response.text, 'html.parser')\n",
    "        name = soup.find('h1', class_='h1_pro_head').text.split()\n",
    "        price = soup.find('span', class_='big_prc', itemprop='price').text\n",
    "        tables = soup.find_all('table', class_='spec_table')\n",
    "        \n",
    "        specs_dict['Brand'] = name[0]\n",
    "        specs_dict['Model'] = ' '.join(name[1:])\n",
    "        specs_dict['Price'] = price\n",
    "        \n",
    "        for table in tables[1:]:\n",
    "            spec_ttle = table.find_all('td', class_='spec_ttle')\n",
    "            spec_des = table.find_all('td', class_='spec_des')\n",
    "            for title, desc in zip(spec_ttle, spec_des):\n",
    "                specs_dict[title.text] = desc.text.strip()\n",
    "\n",
    "        index_dict[ind] = specs_dict\n",
    "        time.sleep(.5+2*random.random())\n",
    "    \n",
    "    return index_dict"
   ]
  },
  {
   "cell_type": "code",
   "execution_count": null,
   "id": "37d2dccb",
   "metadata": {},
   "outputs": [],
   "source": [
    "links = get_phones_links_4g_5g()"
   ]
  },
  {
   "cell_type": "code",
   "execution_count": null,
   "id": "f236d3b4",
   "metadata": {},
   "outputs": [],
   "source": [
    "len(links)"
   ]
  },
  {
   "cell_type": "code",
   "execution_count": null,
   "id": "8badbbdf",
   "metadata": {},
   "outputs": [],
   "source": [
    "phone_dict = get_phones_specs(links)"
   ]
  },
  {
   "cell_type": "code",
   "execution_count": null,
   "id": "9a79fbe8",
   "metadata": {},
   "outputs": [],
   "source": [
    "df = pd.DataFrame(phone_dict).T"
   ]
  }
 ],
 "metadata": {
  "kernelspec": {
   "display_name": "Python 3 (ipykernel)",
   "language": "python",
   "name": "python3"
  },
  "language_info": {
   "codemirror_mode": {
    "name": "ipython",
    "version": 3
   },
   "file_extension": ".py",
   "mimetype": "text/x-python",
   "name": "python",
   "nbconvert_exporter": "python",
   "pygments_lexer": "ipython3",
   "version": "3.9.5"
  }
 },
 "nbformat": 4,
 "nbformat_minor": 5
}
